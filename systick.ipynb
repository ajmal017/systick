{
 "cells": [
  {
   "cell_type": "code",
   "execution_count": 24,
   "metadata": {},
   "outputs": [
    {
     "ename": "AttributeError",
     "evalue": "'QuantFig' object has no attribute 'plot'",
     "output_type": "error",
     "traceback": [
      "\u001b[1;31m---------------------------------------------------------------------------\u001b[0m",
      "\u001b[1;31mAttributeError\u001b[0m                            Traceback (most recent call last)",
      "\u001b[1;32m~\\anaconda3\\lib\\site-packages\\ipywidgets\\widgets\\interaction.py\u001b[0m in \u001b[0;36mobserver\u001b[1;34m(change)\u001b[0m\n\u001b[0;32m     77\u001b[0m         \u001b[1;32mwith\u001b[0m \u001b[0mout\u001b[0m\u001b[1;33m:\u001b[0m\u001b[1;33m\u001b[0m\u001b[1;33m\u001b[0m\u001b[0m\n\u001b[0;32m     78\u001b[0m             \u001b[0mclear_output\u001b[0m\u001b[1;33m(\u001b[0m\u001b[0mwait\u001b[0m\u001b[1;33m=\u001b[0m\u001b[1;32mTrue\u001b[0m\u001b[1;33m)\u001b[0m\u001b[1;33m\u001b[0m\u001b[1;33m\u001b[0m\u001b[0m\n\u001b[1;32m---> 79\u001b[1;33m             \u001b[0mf\u001b[0m\u001b[1;33m(\u001b[0m\u001b[1;33m**\u001b[0m\u001b[0mkwargs\u001b[0m\u001b[1;33m)\u001b[0m\u001b[1;33m\u001b[0m\u001b[1;33m\u001b[0m\u001b[0m\n\u001b[0m\u001b[0;32m     80\u001b[0m             \u001b[0mshow_inline_matplotlib_plots\u001b[0m\u001b[1;33m(\u001b[0m\u001b[1;33m)\u001b[0m\u001b[1;33m\u001b[0m\u001b[1;33m\u001b[0m\u001b[0m\n\u001b[0;32m     81\u001b[0m     \u001b[1;32mfor\u001b[0m \u001b[0mk\u001b[0m\u001b[1;33m,\u001b[0m\u001b[0mw\u001b[0m \u001b[1;32min\u001b[0m \u001b[0mcontrols\u001b[0m\u001b[1;33m.\u001b[0m\u001b[0mitems\u001b[0m\u001b[1;33m(\u001b[0m\u001b[1;33m)\u001b[0m\u001b[1;33m:\u001b[0m\u001b[1;33m\u001b[0m\u001b[1;33m\u001b[0m\u001b[0m\n",
      "\u001b[1;32m<ipython-input-24-c779ed84be5f>\u001b[0m in \u001b[0;36mmake_plot\u001b[1;34m(stock, start, end, upper, lower, period)\u001b[0m\n\u001b[0;32m     21\u001b[0m     \u001b[0mquant_fig\u001b[0m\u001b[1;33m.\u001b[0m\u001b[0madd_rsi\u001b[0m\u001b[1;33m(\u001b[0m\u001b[0mperiods\u001b[0m\u001b[1;33m=\u001b[0m\u001b[0mperiod\u001b[0m\u001b[1;33m,\u001b[0m \u001b[0mrsi_upper\u001b[0m\u001b[1;33m=\u001b[0m\u001b[0mupper\u001b[0m\u001b[1;33m,\u001b[0m \u001b[0mrsi_lower\u001b[0m\u001b[1;33m=\u001b[0m\u001b[0mlower\u001b[0m\u001b[1;33m,\u001b[0m \u001b[0mshowbands\u001b[0m\u001b[1;33m=\u001b[0m\u001b[1;32mTrue\u001b[0m\u001b[1;33m)\u001b[0m\u001b[1;33m\u001b[0m\u001b[1;33m\u001b[0m\u001b[0m\n\u001b[0;32m     22\u001b[0m \u001b[1;33m\u001b[0m\u001b[0m\n\u001b[1;32m---> 23\u001b[1;33m     \u001b[1;32mreturn\u001b[0m \u001b[0mquant_fig\u001b[0m\u001b[1;33m.\u001b[0m\u001b[0mplot\u001b[0m\u001b[1;33m(\u001b[0m\u001b[1;33m)\u001b[0m\u001b[1;33m\u001b[0m\u001b[1;33m\u001b[0m\u001b[0m\n\u001b[0m\u001b[0;32m     24\u001b[0m \u001b[1;33m\u001b[0m\u001b[0m\n\u001b[0;32m     25\u001b[0m \u001b[1;33m\u001b[0m\u001b[0m\n",
      "\u001b[1;31mAttributeError\u001b[0m: 'QuantFig' object has no attribute 'plot'"
     ]
    },
    {
     "data": {
      "application/vnd.jupyter.widget-view+json": {
       "model_id": "1509c604fb884aa081e3a2dd2b691e14",
       "version_major": 2,
       "version_minor": 0
      },
      "text/plain": [
       "HBox(children=(VBox(children=(Dropdown(description='Stock', options=('AAPL', 'RTX'), value='AAPL'), DatePicker…"
      ]
     },
     "metadata": {},
     "output_type": "display_data"
    },
    {
     "data": {
      "application/vnd.jupyter.widget-view+json": {
       "model_id": "b3019896083c40488d4d1f40252a3f0c",
       "version_major": 2,
       "version_minor": 0
      },
      "text/plain": [
       "Output()"
      ]
     },
     "metadata": {},
     "output_type": "display_data"
    }
   ],
   "source": [
    "import cufflinks as link\n",
    "link.go_offline()\n",
    "\n",
    "import ipywidgets as ip\n",
    "from ipywidgets import interactive_output\n",
    "import pandas as pd\n",
    "from plotly import plot, init_notebook_mode\n",
    "import yfinance as fin\n",
    "\n",
    "init_notebook_mode()\n",
    "\n",
    "# list of stocks\n",
    "los = ['AAPL', 'RTX']\n",
    "\n",
    "\n",
    "# function for candlestick chart\n",
    "def make_plot(stock, start, end, upper, lower, period):\n",
    "    findata = fin.download(stock, start=start, end=end, progress=False, auto_adjust=True)\n",
    "    \n",
    "    quant_fig = link.QuantFig(findata, title=f'Data for {stock}', legend='left', name=f'{stock}')\n",
    "    quant_fig.add_rsi(periods=period, rsi_upper=upper, rsi_lower=lower, showbands=True)\n",
    "    \n",
    "    return quant_fig.iplot()\n",
    "\n",
    "\n",
    "# preparing data selectors\n",
    "asset_menu = ip.Dropdown(options=los, value=los[0], description='Stock')\n",
    "date_start = ip.DatePicker(value=pd.to_datetime('2020-01-01'), description='From', \n",
    "                           continuous_update=False)\n",
    "date_end = ip.DatePicker(value=pd.to_datetime('2020-08-31'), description='Until', \n",
    "                         continuous_update=False)\n",
    "selector1 = ip.VBox(children=[asset_menu, date_start, date_end])\n",
    "\n",
    "\n",
    "rsi_periods = ip.IntSlider(description='Periods ', min=2, max=50, step=1, value=14, \n",
    "                           continuous_update=False)\n",
    "upper_bound = ip.IntSlider(description='Max ', min=1, max=100, step=1, value=70, \n",
    "                           continuous_update=False)\n",
    "lower_bound = ip.IntSlider(description='Min ', min=1, max=100, step=1, value=30, \n",
    "                           continuous_update=False)\n",
    "selector2 = ip.VBox(children=[rsi_periods, upper_bound, lower_bound])\n",
    "\n",
    "\n",
    "# combining selectors\n",
    "all_selectors_dict = {'stock': asset_menu, 'start': date_start, 'end': date_end, \n",
    "                      'upper': upper_bound, 'lower': lower_bound, 'period': rsi_periods}\n",
    "\n",
    "# displaying results\n",
    "interface = ip.HBox([selector1, selector2])\n",
    "output = ip.interactive_output(make_plot, all_selectors_dict)\n",
    "display(interface, output)"
   ]
  },
  {
   "cell_type": "code",
   "execution_count": null,
   "metadata": {},
   "outputs": [],
   "source": []
  },
  {
   "cell_type": "code",
   "execution_count": null,
   "metadata": {},
   "outputs": [],
   "source": []
  }
 ],
 "metadata": {
  "kernelspec": {
   "display_name": "Python 3",
   "language": "python",
   "name": "python3"
  },
  "language_info": {
   "codemirror_mode": {
    "name": "ipython",
    "version": 3
   },
   "file_extension": ".py",
   "mimetype": "text/x-python",
   "name": "python",
   "nbconvert_exporter": "python",
   "pygments_lexer": "ipython3",
   "version": "3.8.3"
  }
 },
 "nbformat": 4,
 "nbformat_minor": 4
}
