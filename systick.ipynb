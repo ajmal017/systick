{
 "cells": [
  {
   "cell_type": "code",
   "execution_count": 2,
   "metadata": {},
   "outputs": [
    {
     "data": {
      "text/html": [
       "        <script type=\"text/javascript\">\n",
       "        window.PlotlyConfig = {MathJaxConfig: 'local'};\n",
       "        if (window.MathJax) {MathJax.Hub.Config({SVG: {font: \"STIX-Web\"}});}\n",
       "        if (typeof require !== 'undefined') {\n",
       "        require.undef(\"plotly\");\n",
       "        requirejs.config({\n",
       "            paths: {\n",
       "                'plotly': ['https://cdn.plot.ly/plotly-latest.min']\n",
       "            }\n",
       "        });\n",
       "        require(['plotly'], function(Plotly) {\n",
       "            window._Plotly = Plotly;\n",
       "        });\n",
       "        }\n",
       "        </script>\n",
       "        "
      ]
     },
     "metadata": {},
     "output_type": "display_data"
    },
    {
     "data": {
      "application/vnd.jupyter.widget-view+json": {
       "model_id": "c63b7561c0084ab98f2748f3c1cecb9a",
       "version_major": 2,
       "version_minor": 0
      },
      "text/plain": [
       "HBox(children=(VBox(children=(Dropdown(description='Stock', options=('AAPL', 'RTX'), value='AAPL'), DatePicker…"
      ]
     },
     "metadata": {},
     "output_type": "display_data"
    },
    {
     "data": {
      "application/vnd.jupyter.widget-view+json": {
       "model_id": "66c6b3db06a841e89a46e2b4e7124336",
       "version_major": 2,
       "version_minor": 0
      },
      "text/plain": [
       "Output()"
      ]
     },
     "metadata": {},
     "output_type": "display_data"
    }
   ],
   "source": [
    "import cufflinks as link\n",
    "import ipywidgets as ip\n",
    "from ipywidgets import interactive_output\n",
    "import pandas as pd\n",
    "from plotly.offline import iplot, init_notebook_mode\n",
    "import yfinance as fin\n",
    "\n",
	"link.go_offline()\n",
    "init_notebook_mode()\n",
    "\n",
    "# list of stocks\n",
    "los = ['AAPL', 'RTX']\n",
    "\n",
    "\n",
    "# function for candlestick chart\n",
    "def make_plot(stock, start, end, upper, lower, period):\n",
    "    findata = fin.download(stock, start=start, end=end, progress=False, auto_adjust=True)\n",
    "    \n",
    "    quant_fig = link.QuantFig(findata, title=f'Data for {stock}', legend='left', name=f'{stock}')\n",
    "    quant_fig.add_rsi(periods=period, rsi_upper=upper, rsi_lower=lower, showbands=True)\n",
    "    \n",
    "    return quant_fig.iplot()\n",
    "\n",
    "\n",
    "# preparing data selectors\n",
    "asset_menu = ip.Dropdown(options=los, value=los[0], description='Stock')\n",
    "date_start = ip.DatePicker(value=pd.to_datetime('2020-01-01'), description='From', \n",
    "                           continuous_update=False)\n",
    "date_end = ip.DatePicker(value=pd.to_datetime('2020-08-31'), description='Until', \n",
    "                         continuous_update=False)\n",
    "selector1 = ip.VBox(children=[asset_menu, date_start, date_end])\n",
    "\n",
    "\n",
    "rsi_periods = ip.IntSlider(description='Periods ', min=2, max=50, step=1, value=14, \n",
    "                           continuous_update=False)\n",
    "upper_bound = ip.IntSlider(description='Max ', min=1, max=100, step=1, value=70, \n",
    "                           continuous_update=False)\n",
    "lower_bound = ip.IntSlider(description='Min ', min=1, max=100, step=1, value=30, \n",
    "                           continuous_update=False)\n",
    "selector2 = ip.VBox(children=[rsi_periods, upper_bound, lower_bound])\n",
    "\n",
    "\n",
    "# combining selectors\n",
    "all_selectors_dict = {'stock': asset_menu, 'start': date_start, 'end': date_end, \n",
    "                      'upper': upper_bound, 'lower': lower_bound, 'period': rsi_periods}\n",
    "\n",
    "# displaying results\n",
    "interface = ip.HBox([selector1, selector2])\n",
    "output = ip.interactive_output(make_plot, all_selectors_dict)\n",
    "display(interface, output)"
   ]
  },
  {
   "cell_type": "code",
   "execution_count": null,
   "metadata": {},
   "outputs": [],
   "source": []
  },
  {
   "cell_type": "code",
   "execution_count": null,
   "metadata": {},
   "outputs": [],
   "source": []
  }
 ],
 "metadata": {
  "kernelspec": {
   "display_name": "Python 3",
   "language": "python",
   "name": "python3"
  },
  "language_info": {
   "codemirror_mode": {
    "name": "ipython",
    "version": 3
   },
   "file_extension": ".py",
   "mimetype": "text/x-python",
   "name": "python",
   "nbconvert_exporter": "python",
   "pygments_lexer": "ipython3",
   "version": "3.8.3"
  }
 },
 "nbformat": 4,
 "nbformat_minor": 4
}
